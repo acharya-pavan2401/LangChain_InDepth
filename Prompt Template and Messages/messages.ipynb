{
 "cells": [
  {
   "cell_type": "code",
   "execution_count": 1,
   "metadata": {},
   "outputs": [],
   "source": [
    "from langchain_core.messages import SystemMessage, HumanMessage, AIMessage\n",
    "import os\n",
    "from dotenv import load_dotenv\n",
    "from langchain_groq import ChatGroq"
   ]
  },
  {
   "cell_type": "code",
   "execution_count": 2,
   "metadata": {},
   "outputs": [],
   "source": [
    "load_dotenv()\n",
    "## load the GROQ API Key\n",
    "os.environ['GROQ_API_KEY']=os.getenv(\"GROQ_API_KEY\")\n",
    "\n",
    "groq_api_key=os.getenv(\"GROQ_API_KEY\")\n",
    "\n",
    "model=ChatGroq(groq_api_key=groq_api_key,model_name=\"gemma2-9b-it\")"
   ]
  },
  {
   "cell_type": "code",
   "execution_count": 3,
   "metadata": {},
   "outputs": [],
   "source": [
    "messages=[\n",
    "    SystemMessage(content='You are a helpful assistant'),\n",
    "    HumanMessage(content='Tell me about LangChain')\n",
    "]\n"
   ]
  },
  {
   "cell_type": "code",
   "execution_count": 4,
   "metadata": {},
   "outputs": [
    {
     "name": "stdout",
     "output_type": "stream",
     "text": [
      "[SystemMessage(content='You are a helpful assistant', additional_kwargs={}, response_metadata={}), HumanMessage(content='Tell me about LangChain', additional_kwargs={}, response_metadata={}), AIMessage(content='Let me tell you about LangChain!\\n\\nLangChain is an exciting open-source framework designed to simplify the development of applications powered by large language models (LLMs).\\n\\n**Here\\'s what makes LangChain so powerful:**\\n\\n* **Components:** LangChain provides a collection of modular building blocks (called \"chains\") that you can combine to create sophisticated applications. These components include:\\n    * **LLMs:**  Integrations with popular LLMs like OpenAI\\'s GPT models, HuggingFace\\'s models, and others.\\n    * **Memory:**  Mechanisms to store and retrieve information across interactions, enabling your applications to have context and \"remember\" past conversations.\\n    * **Prompt Templates:**  Structures for crafting effective prompts to guide the LLM\\'s responses.\\n    * **Agents:**  Systems that can autonomously interact with the world by calling APIs, querying databases, and executing other actions based on LLM-generated instructions.\\n* **Simplified Development:**  LangChain streamlines the process of building LLM-based applications by:\\n    * **Abstraction:**  It hides the complexities of interacting with LLMs, allowing you to focus on the logic of your application.\\n    * ** Reusability:**  You can easily reuse pre-built chains and components, saving you time and effort.\\n    * **Flexibility:** LangChain supports various LLM backends, allowing you to choose the best model for your needs.\\n\\n**Use Cases:**\\n\\nLangChain empowers you to create a wide range of applications, including:\\n\\n* **Chatbots:**  Build more intelligent and conversational chatbots with memory and context.\\n* **Question Answering Systems:**  Develop systems that can accurately answer questions based on a given context or dataset.\\n* **Text Summarization:**  Generate concise summaries of lengthy documents.\\n* **Code Generation:**  Assist developers by generating code snippets based on natural language instructions.\\n* **Workflow Automation:**  Automate tasks by combining LLMs with other tools and APIs.\\n\\n**Getting Started:**\\n\\nLangChain is actively developed and has a growing community. You can find documentation, tutorials, and examples on its official website: [https://python.langchain.com/](https://python.langchain.com/)\\n\\n\\n\\n\\nLet me know if you have any more questions about LangChain or want to explore specific use cases in more detail!\\n', additional_kwargs={}, response_metadata={})]\n"
     ]
    }
   ],
   "source": [
    "result = model.invoke(messages)\n",
    "messages.append(AIMessage(content=result.content))\n",
    "print(messages)"
   ]
  },
  {
   "cell_type": "code",
   "execution_count": 5,
   "metadata": {},
   "outputs": [
    {
     "name": "stdout",
     "output_type": "stream",
     "text": [
      "Let me tell you about LangChain!\n",
      "\n",
      "LangChain is an exciting open-source framework designed to simplify the development of applications powered by large language models (LLMs).\n",
      "\n",
      "**Here's what makes LangChain so powerful:**\n",
      "\n",
      "* **Components:** LangChain provides a collection of modular building blocks (called \"chains\") that you can combine to create sophisticated applications. These components include:\n",
      "    * **LLMs:**  Integrations with popular LLMs like OpenAI's GPT models, HuggingFace's models, and others.\n",
      "    * **Memory:**  Mechanisms to store and retrieve information across interactions, enabling your applications to have context and \"remember\" past conversations.\n",
      "    * **Prompt Templates:**  Structures for crafting effective prompts to guide the LLM's responses.\n",
      "    * **Agents:**  Systems that can autonomously interact with the world by calling APIs, querying databases, and executing other actions based on LLM-generated instructions.\n",
      "* **Simplified Development:**  LangChain streamlines the process of building LLM-based applications by:\n",
      "    * **Abstraction:**  It hides the complexities of interacting with LLMs, allowing you to focus on the logic of your application.\n",
      "    * ** Reusability:**  You can easily reuse pre-built chains and components, saving you time and effort.\n",
      "    * **Flexibility:** LangChain supports various LLM backends, allowing you to choose the best model for your needs.\n",
      "\n",
      "**Use Cases:**\n",
      "\n",
      "LangChain empowers you to create a wide range of applications, including:\n",
      "\n",
      "* **Chatbots:**  Build more intelligent and conversational chatbots with memory and context.\n",
      "* **Question Answering Systems:**  Develop systems that can accurately answer questions based on a given context or dataset.\n",
      "* **Text Summarization:**  Generate concise summaries of lengthy documents.\n",
      "* **Code Generation:**  Assist developers by generating code snippets based on natural language instructions.\n",
      "* **Workflow Automation:**  Automate tasks by combining LLMs with other tools and APIs.\n",
      "\n",
      "**Getting Started:**\n",
      "\n",
      "LangChain is actively developed and has a growing community. You can find documentation, tutorials, and examples on its official website: [https://python.langchain.com/](https://python.langchain.com/)\n",
      "\n",
      "\n",
      "\n",
      "\n",
      "Let me know if you have any more questions about LangChain or want to explore specific use cases in more detail!\n",
      "\n"
     ]
    }
   ],
   "source": [
    "print(result.content)"
   ]
  },
  {
   "cell_type": "code",
   "execution_count": null,
   "metadata": {},
   "outputs": [],
   "source": []
  }
 ],
 "metadata": {
  "kernelspec": {
   "display_name": "Python 3",
   "language": "python",
   "name": "python3"
  },
  "language_info": {
   "codemirror_mode": {
    "name": "ipython",
    "version": 3
   },
   "file_extension": ".py",
   "mimetype": "text/x-python",
   "name": "python",
   "nbconvert_exporter": "python",
   "pygments_lexer": "ipython3",
   "version": "3.10.0"
  }
 },
 "nbformat": 4,
 "nbformat_minor": 2
}
