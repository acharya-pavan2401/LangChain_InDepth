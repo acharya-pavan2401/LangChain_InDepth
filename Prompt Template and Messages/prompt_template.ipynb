{
 "cells": [
  {
   "cell_type": "code",
   "execution_count": 1,
   "metadata": {},
   "outputs": [],
   "source": [
    "from langchain_core.prompts import PromptTemplate\n",
    "import os\n",
    "from dotenv import load_dotenv\n",
    "from langchain_groq import ChatGroq"
   ]
  },
  {
   "cell_type": "code",
   "execution_count": 2,
   "metadata": {},
   "outputs": [],
   "source": [
    "load_dotenv()\n",
    "## load the GROQ API Key\n",
    "os.environ['GROQ_API_KEY']=os.getenv(\"GROQ_API_KEY\")\n",
    "\n",
    "groq_api_key=os.getenv(\"GROQ_API_KEY\")\n",
    "\n",
    "model=ChatGroq(groq_api_key=groq_api_key,model_name=\"gemma2-9b-it\")"
   ]
  },
  {
   "cell_type": "code",
   "execution_count": 3,
   "metadata": {},
   "outputs": [],
   "source": [
    "# detailed way\n",
    "template2 = PromptTemplate(\n",
    "    template='Greet this person in 5 languages. The name of the person is {name}',\n",
    "    input_variables=['name']\n",
    ")"
   ]
  },
  {
   "cell_type": "code",
   "execution_count": 4,
   "metadata": {},
   "outputs": [
    {
     "name": "stdout",
     "output_type": "stream",
     "text": [
      "Here are greetings for Pavan in 5 languages:\n",
      "\n",
      "* **English:** Hello Pavan!\n",
      "* **Spanish:** Hola Pavan!\n",
      "* **French:** Bonjour Pavan!\n",
      "* **German:** Hallo Pavan!\n",
      "* **Japanese:** こんにちは、Pavanさん (Konnichiwa, Pavan-san) \n",
      "\n",
      "\n",
      "Let me know if you'd like greetings in any other languages! \n",
      "\n"
     ]
    }
   ],
   "source": [
    "# fill the values of the placeholders\n",
    "prompt = template2.invoke({'name':'Pavan'})\n",
    "\n",
    "result = model.invoke(prompt)\n",
    "\n",
    "print(result.content)"
   ]
  },
  {
   "cell_type": "code",
   "execution_count": null,
   "metadata": {},
   "outputs": [],
   "source": []
  }
 ],
 "metadata": {
  "kernelspec": {
   "display_name": "Python 3",
   "language": "python",
   "name": "python3"
  },
  "language_info": {
   "codemirror_mode": {
    "name": "ipython",
    "version": 3
   },
   "file_extension": ".py",
   "mimetype": "text/x-python",
   "name": "python",
   "nbconvert_exporter": "python",
   "pygments_lexer": "ipython3",
   "version": "3.10.0"
  }
 },
 "nbformat": 4,
 "nbformat_minor": 2
}
